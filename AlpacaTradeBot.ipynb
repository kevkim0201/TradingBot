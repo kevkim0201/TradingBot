{
 "cells": [
  {
   "cell_type": "code",
   "execution_count": 8,
   "metadata": {},
   "outputs": [],
   "source": [
    "from alpaca.trading.client import TradingClient\n",
    "from alpaca.trading.requests import MarketOrderRequest, StopLossRequest, TakeProfitRequest\n",
    "from alpaca.trading.enums import OrderSide, TimeInForce, AssetClass\n",
    "from alpaca.data.historical import StockHistoricalDataClient\n",
    "from alpaca.data.requests import StockBarsRequest\n",
    "from alpaca.data.timeframe import TimeFrame\n",
    "\n",
    "import pandas as pd\n",
    "from apscheduler.schedulers.blocking import BlockingScheduler\n",
    "from datetime import datetime, timedelta"
   ]
  },
  {
   "cell_type": "code",
   "execution_count": 9,
   "metadata": {},
   "outputs": [],
   "source": [
    "### Code given from the Alpaca website info\n",
    "\n",
    "TRADE_API_KEY=\"PKHZ8KJAZ8NRZ18EUKZZ\"\n",
    "TRADE_API_SECRET=\"NA07lslGjfRhDbbjzPdqjBnUv6nlrsy1YQIUCVet\"\n",
    "\n",
    "#### We use paper environment for this example ####\n",
    "PAPER=True\n",
    "TRADE_API_URL=\"https://paper-api.alpaca.markets\"\n",
    "TRADE_API_WSS=None\n",
    "DATA_API_URL=None\n",
    "OPTION_STREAM_DATA_WSS=None\n",
    "\n",
    "api_key = TRADE_API_KEY\n",
    "secret_key = TRADE_API_SECRET\n",
    "paper = PAPER\n",
    "trade_api_url = TRADE_API_URL\n",
    "\n",
    "trade_client = TradingClient(TRADE_API_KEY, TRADE_API_SECRET, paper=PAPER, url_override= TRADE_API_URL)\n",
    "data_client = StockHistoricalDataClient(TRADE_API_KEY, TRADE_API_SECRET)\n"
   ]
  },
  {
   "cell_type": "code",
   "execution_count": 38,
   "metadata": {},
   "outputs": [],
   "source": [
    "# Fetch Historical Data \n",
    "\n",
    "def get_stock_data(symbol, timeframe=\"15Min\", limit=50):\n",
    "    # Create a StockBarsRequest with the necessary parameters\n",
    "    request_params = StockBarsRequest(\n",
    "        symbol_or_symbols=symbol,\n",
    "        timeframe=TimeFrame.Minute,\n",
    "        limit=limit\n",
    "    )\n",
    "    \n",
    "    # Fetch stock bars from Alpaca\n",
    "    bars, metadata = data_client.get_stock_bars(request_params)\n",
    "    \n",
    "    # Convert the bars into a pandas DataFrame\n",
    "    df = pd.DataFrame({\n",
    "        'open': [bar.o for bar in bars],\n",
    "        'high': [bar.h for bar in bars],\n",
    "        'low': [bar.l for bar in bars],\n",
    "        'close': [bar.c for bar in bars]\n",
    "    })\n",
    "    \n",
    "    return df"
   ]
  },
  {
   "cell_type": "code",
   "execution_count": 39,
   "metadata": {},
   "outputs": [],
   "source": [
    "# Signal generator logic\n",
    "\n",
    "def signal_generator(df):\n",
    "    open = df[\"open\"].iloc[-1]\n",
    "    close = df[\"close\"].iloc[-1]\n",
    "    previous_open = df[\"open\"].iloc[-2]\n",
    "    previous_close = df[\"close\"].iloc[-2]\n",
    "    \n",
    "    # Bearish Pattern\n",
    "    if (open > close and \n",
    "        previous_open < previous_close and \n",
    "        close < previous_open and\n",
    "        open >= previous_close):\n",
    "        return \"sell\"\n",
    "    \n",
    "     # Bullish Pattern\n",
    "    elif (open < close and \n",
    "          previous_open > previous_close and \n",
    "          close > previous_open and\n",
    "          open <= previous_close):\n",
    "        return \"buy\"\n",
    "    \n",
    "    # No clear pattern\n",
    "    else:\n",
    "        return \"hold\""
   ]
  },
  {
   "cell_type": "code",
   "execution_count": 40,
   "metadata": {},
   "outputs": [],
   "source": [
    "def trading_job():\n",
    "    symbol = \"AAPL\"  # Stock to trade\n",
    "    bars = get_stock_data(symbol)\n",
    "    signal = signal_generator(bars)\n",
    "\n",
    "    # Define trade parameters\n",
    "    last_price = bars[\"close\"].iloc[-1]\n",
    "    risk_tolerance = 2.0  # Stop-loss/take-profit multiplier\n",
    "    trade_size = 1  # Number of shares\n",
    "\n",
    "    range_previous_candle = abs(bars[\"high\"].iloc[-2] - bars[\"low\"].iloc[-2])\n",
    "    SLBuy = last_price - range_previous_candle\n",
    "    TPBuy = last_price + (range_previous_candle * risk_tolerance)\n",
    "    SLSell = last_price + range_previous_candle\n",
    "    TPSell = last_price - (range_previous_candle * risk_tolerance)\n",
    "\n",
    "    print(f\"Signal: {signal}, Last Price: {last_price}\")\n",
    "    print(f\"Buy TP: {TPBuy}, Buy SL: {SLBuy}, Sell TP: {TPSell}, Sell SL: {SLSell}\")\n",
    "\n",
    "\n",
    "        # Execute trades based on the signal\n",
    "    try:\n",
    "        if signal == \"buy\":\n",
    "            # Place buy market order\n",
    "            market_order = MarketOrderRequest(\n",
    "                symbol=symbol,\n",
    "                qty=trade_size,\n",
    "                side=OrderSide.BUY,\n",
    "                time_in_force=TimeInForce.GTC\n",
    "            )\n",
    "            trade_client.submit_order(market_order)\n",
    "            print(f\"Buy order placed for {symbol}\")\n",
    "        elif signal == \"sell\":\n",
    "            # Place sell market order\n",
    "            market_order = MarketOrderRequest(\n",
    "                symbol=symbol,\n",
    "                qty=trade_size,\n",
    "                side=OrderSide.SELL,\n",
    "                time_in_force=TimeInForce.GTC\n",
    "            )\n",
    "            trade_client.submit_order(market_order)\n",
    "            print(f\"Sell order placed for {symbol}\")\n",
    "        else:\n",
    "            print(\"No trade executed.\")\n",
    "    except Exception as e:\n",
    "        print(f\"Error executing trade: {e}\")\n"
   ]
  },
  {
   "cell_type": "code",
   "execution_count": 41,
   "metadata": {},
   "outputs": [
    {
     "ename": "ValueError",
     "evalue": "not enough values to unpack (expected 2, got 1)",
     "output_type": "error",
     "traceback": [
      "\u001b[1;31m---------------------------------------------------------------------------\u001b[0m",
      "\u001b[1;31mValueError\u001b[0m                                Traceback (most recent call last)",
      "Cell \u001b[1;32mIn[41], line 7\u001b[0m\n\u001b[0;32m      1\u001b[0m \u001b[38;5;66;03m# Scheduler to run the bot\u001b[39;00m\n\u001b[0;32m      2\u001b[0m \n\u001b[0;32m      3\u001b[0m \u001b[38;5;66;03m#scheduler = BlockingScheduler(timezone=\"America/Los_Angeles\")\u001b[39;00m\n\u001b[0;32m      4\u001b[0m \u001b[38;5;66;03m#scheduler.add_job(trading_job, 'cron', day_of_week='mon-fri', hour='06-15', minute='0,15,30,45')  # Adjust as needed\u001b[39;00m\n\u001b[0;32m      5\u001b[0m \u001b[38;5;66;03m#scheduler.start()\u001b[39;00m\n\u001b[1;32m----> 7\u001b[0m \u001b[43mtrading_job\u001b[49m\u001b[43m(\u001b[49m\u001b[43m)\u001b[49m\n",
      "Cell \u001b[1;32mIn[40], line 3\u001b[0m, in \u001b[0;36mtrading_job\u001b[1;34m()\u001b[0m\n\u001b[0;32m      1\u001b[0m \u001b[38;5;28;01mdef\u001b[39;00m \u001b[38;5;21mtrading_job\u001b[39m():\n\u001b[0;32m      2\u001b[0m     symbol \u001b[38;5;241m=\u001b[39m \u001b[38;5;124m\"\u001b[39m\u001b[38;5;124mAAPL\u001b[39m\u001b[38;5;124m\"\u001b[39m  \u001b[38;5;66;03m# Stock to trade\u001b[39;00m\n\u001b[1;32m----> 3\u001b[0m     bars \u001b[38;5;241m=\u001b[39m \u001b[43mget_stock_data\u001b[49m\u001b[43m(\u001b[49m\u001b[43msymbol\u001b[49m\u001b[43m)\u001b[49m\n\u001b[0;32m      4\u001b[0m     signal \u001b[38;5;241m=\u001b[39m signal_generator(bars)\n\u001b[0;32m      6\u001b[0m     \u001b[38;5;66;03m# Define trade parameters\u001b[39;00m\n",
      "Cell \u001b[1;32mIn[38], line 12\u001b[0m, in \u001b[0;36mget_stock_data\u001b[1;34m(symbol, timeframe, limit)\u001b[0m\n\u001b[0;32m      5\u001b[0m request_params \u001b[38;5;241m=\u001b[39m StockBarsRequest(\n\u001b[0;32m      6\u001b[0m     symbol_or_symbols\u001b[38;5;241m=\u001b[39msymbol,\n\u001b[0;32m      7\u001b[0m     timeframe\u001b[38;5;241m=\u001b[39mTimeFrame\u001b[38;5;241m.\u001b[39mMinute,\n\u001b[0;32m      8\u001b[0m     limit\u001b[38;5;241m=\u001b[39mlimit\n\u001b[0;32m      9\u001b[0m )\n\u001b[0;32m     11\u001b[0m \u001b[38;5;66;03m# Fetch stock bars from Alpaca\u001b[39;00m\n\u001b[1;32m---> 12\u001b[0m bars, metadata \u001b[38;5;241m=\u001b[39m data_client\u001b[38;5;241m.\u001b[39mget_stock_bars(request_params)\n\u001b[0;32m     14\u001b[0m \u001b[38;5;66;03m# Convert the bars into a pandas DataFrame\u001b[39;00m\n\u001b[0;32m     15\u001b[0m df \u001b[38;5;241m=\u001b[39m pd\u001b[38;5;241m.\u001b[39mDataFrame({\n\u001b[0;32m     16\u001b[0m     \u001b[38;5;124m'\u001b[39m\u001b[38;5;124mopen\u001b[39m\u001b[38;5;124m'\u001b[39m: [bar\u001b[38;5;241m.\u001b[39mo \u001b[38;5;28;01mfor\u001b[39;00m bar \u001b[38;5;129;01min\u001b[39;00m bars],\n\u001b[0;32m     17\u001b[0m     \u001b[38;5;124m'\u001b[39m\u001b[38;5;124mhigh\u001b[39m\u001b[38;5;124m'\u001b[39m: [bar\u001b[38;5;241m.\u001b[39mh \u001b[38;5;28;01mfor\u001b[39;00m bar \u001b[38;5;129;01min\u001b[39;00m bars],\n\u001b[0;32m     18\u001b[0m     \u001b[38;5;124m'\u001b[39m\u001b[38;5;124mlow\u001b[39m\u001b[38;5;124m'\u001b[39m: [bar\u001b[38;5;241m.\u001b[39ml \u001b[38;5;28;01mfor\u001b[39;00m bar \u001b[38;5;129;01min\u001b[39;00m bars],\n\u001b[0;32m     19\u001b[0m     \u001b[38;5;124m'\u001b[39m\u001b[38;5;124mclose\u001b[39m\u001b[38;5;124m'\u001b[39m: [bar\u001b[38;5;241m.\u001b[39mc \u001b[38;5;28;01mfor\u001b[39;00m bar \u001b[38;5;129;01min\u001b[39;00m bars]\n\u001b[0;32m     20\u001b[0m })\n",
      "\u001b[1;31mValueError\u001b[0m: not enough values to unpack (expected 2, got 1)"
     ]
    }
   ],
   "source": [
    "# Scheduler to run the bot\n",
    "\n",
    "#scheduler = BlockingScheduler(timezone=\"America/Los_Angeles\")\n",
    "#scheduler.add_job(trading_job, 'cron', day_of_week='mon-fri', hour='06-15', minute='0,15,30,45')  # Adjust as needed\n",
    "#scheduler.start()\n",
    "\n",
    "trading_job()"
   ]
  }
 ],
 "metadata": {
  "kernelspec": {
   "display_name": "Python 3",
   "language": "python",
   "name": "python3"
  },
  "language_info": {
   "codemirror_mode": {
    "name": "ipython",
    "version": 3
   },
   "file_extension": ".py",
   "mimetype": "text/x-python",
   "name": "python",
   "nbconvert_exporter": "python",
   "pygments_lexer": "ipython3",
   "version": "3.12.4"
  }
 },
 "nbformat": 4,
 "nbformat_minor": 2
}
